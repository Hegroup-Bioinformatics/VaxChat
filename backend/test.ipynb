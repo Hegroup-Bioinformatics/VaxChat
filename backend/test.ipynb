{
 "cells": [
  {
   "cell_type": "code",
   "execution_count": 1,
   "id": "cd4e81ca",
   "metadata": {},
   "outputs": [],
   "source": [
    "import sys\n",
    "sys.path.append(\"../\")"
   ]
  },
  {
   "cell_type": "code",
   "execution_count": 2,
   "id": "9bf0762a",
   "metadata": {},
   "outputs": [],
   "source": [
    "from agent.agent import Agent"
   ]
  },
  {
   "cell_type": "code",
   "execution_count": 3,
   "id": "5837e644",
   "metadata": {},
   "outputs": [],
   "source": [
    "my_agent = Agent()"
   ]
  },
  {
   "cell_type": "code",
   "execution_count": null,
   "id": "a508717b",
   "metadata": {},
   "outputs": [],
   "source": [
    "print(my_agent.decide(\"What are some vaccines that target brucella?\"))"
   ]
  },
  {
   "cell_type": "code",
   "execution_count": 4,
   "id": "4432cee6",
   "metadata": {},
   "outputs": [
    {
     "name": "stdout",
     "output_type": "stream",
     "text": [
      "{\n",
      "    \"tool_to_use\": \"cypher_search\",\n",
      "    \"tool_parameters\": {}\n",
      "}\n",
      "{\n",
      "    \"tool_to_use\": \"pubmed_search\",\n",
      "    \"tool_parameters\": {\n",
      "        \"type\": \"full\",\n",
      "        \"number\": 10\n",
      "    }\n",
      "}\n",
      "{\n",
      "    \"tool_to_use\": \"pubmed_search\",\n",
      "    \"tool_parameters\": {\n",
      "        \"type\": \"full\",\n",
      "        \"number\": 1\n",
      "    }\n",
      "}\n"
     ]
    }
   ],
   "source": [
    "print(my_agent.decide(\"What are some vaccines that target brucella?\"))\n",
    "print(my_agent.decide(\"Can you provided a review of brucella research for me\"))\n",
    "print(my_agent.decide(\"What is the latest most cited paper in brucella\"))"
   ]
  }
 ],
 "metadata": {
  "kernelspec": {
   "display_name": "Python 3",
   "language": "python",
   "name": "python3"
  },
  "language_info": {
   "codemirror_mode": {
    "name": "ipython",
    "version": 3
   },
   "file_extension": ".py",
   "mimetype": "text/x-python",
   "name": "python",
   "nbconvert_exporter": "python",
   "pygments_lexer": "ipython3",
   "version": "3.11.9"
  }
 },
 "nbformat": 4,
 "nbformat_minor": 5
}
