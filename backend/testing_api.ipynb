{
 "cells": [
  {
   "cell_type": "code",
   "execution_count": null,
   "id": "912cf93b",
   "metadata": {},
   "outputs": [],
   "source": [
    "from Bio import Entrez\n",
    "from xml.etree import ElementTree as ET\n",
    "import re\n",
    "import requests\n",
    "Entrez.email = \"asamatt@umich.edu\""
   ]
  },
  {
   "cell_type": "code",
   "execution_count": null,
   "id": "2a7fa7ef",
   "metadata": {},
   "outputs": [],
   "source": [
    "handle = Entrez.esearch(db=\"pubmed\", retmax=10, term=\"Brucella vaccine\")\n",
    "record = Entrez.read(handle)\n",
    "print(record)"
   ]
  },
  {
   "cell_type": "code",
   "execution_count": null,
   "id": "5a5c9383",
   "metadata": {},
   "outputs": [],
   "source": [
    "def convert_pmid_to_pmcid(pmid):\n",
    "  url = f\"https://www.ncbi.nlm.nih.gov/pmc/utils/idconv/v1.0/?ids={pmid}&format=json\"\n",
    "  response = requests.get(url)\n",
    "  data = response.json()\n",
    "  if \"records\" in data and data[\"records\"]:\n",
    "    return data[\"records\"][0].get(\"pmcid\", None)\n",
    "  return None"
   ]
  },
  {
   "cell_type": "code",
   "execution_count": null,
   "id": "263f5080",
   "metadata": {},
   "outputs": [],
   "source": [
    "print(type(record))\n",
    "if isinstance(record, dict):\n",
    "\tprint(record.keys())\n",
    "\tprint(record['IdList'])\n",
    "\tabstracts = []\n",
    "\tfor id in record['IdList']:\n",
    "\t\tpmcid = convert_pmid_to_pmcid(id)\n",
    "\t\tprint(pmcid)\n",
    "\t\tif pmcid:\n",
    "\t\t\tpmcid_handle = Entrez.efetch(db=\"pmc\", id=pmcid, rettype=\"abstract\", retmode=\"text\")\n",
    "\t\t\tabstract = pmcid_handle.read()\n",
    "\t\t\tprint(abstract)\n",
    "\t\t\tabstracts.append(abstract)\n",
    "   "
   ]
  },
  {
   "cell_type": "code",
   "execution_count": null,
   "id": "24d78991",
   "metadata": {},
   "outputs": [],
   "source": [
    "def get_element_text(elem):\n",
    "    \"\"\"Recursively extract all text from an ElementTree element.\"\"\"\n",
    "    text_parts = []\n",
    "    if elem.text:\n",
    "        text_parts.append(elem.text)\n",
    "    for child in elem:\n",
    "        text_parts.append(get_element_text(child))\n",
    "        if child.tail:\n",
    "            text_parts.append(child.tail)\n",
    "    return \"\".join(text_parts)"
   ]
  },
  {
   "cell_type": "code",
   "execution_count": null,
   "id": "23237781",
   "metadata": {},
   "outputs": [],
   "source": [
    "print(type(record))\n",
    "if isinstance(record, dict):\n",
    "\tprint(record.keys())\n",
    "\tprint(record['IdList'])\n",
    "\tabstracts = []\n",
    "\tfor id in record['IdList']:\n",
    "\t\tpmid_handle = Entrez.efetch(db=\"pubmed\", id=id, rettype=\"abstract\", retmode=\"xml\")\n",
    "\t\txml_data = pmid_handle.read()\n",
    "\t\troot = ET.fromstring(xml_data)\n",
    "\t\tfor abstract_text in root.findall(\".//Abstract\"):\n",
    "\t\t\tabstracts.append({\"pmid\": id, \"abstract\": get_element_text(abstract_text)})"
   ]
  },
  {
   "cell_type": "code",
   "execution_count": null,
   "id": "ddb30f1a",
   "metadata": {},
   "outputs": [],
   "source": [
    "for abstract in abstracts:\n",
    "  print(abstract)\n",
    "  print(\"\\n\")"
   ]
  },
  {
   "cell_type": "code",
   "execution_count": null,
   "id": "80ea75d7",
   "metadata": {},
   "outputs": [],
   "source": [
    "print(abstracts[0])\n",
    "clean_abstract = re.search(r\"<abstract.*?>.*?</abstract>\", abstracts[0], re.DOTALL)"
   ]
  },
  {
   "cell_type": "code",
   "execution_count": null,
   "id": "ce1289b0",
   "metadata": {},
   "outputs": [],
   "source": [
    "print(clean_abstract.group(0))"
   ]
  }
 ],
 "metadata": {
  "kernelspec": {
   "display_name": "Python 3",
   "language": "python",
   "name": "python3"
  },
  "language_info": {
   "codemirror_mode": {
    "name": "ipython",
    "version": 3
   },
   "file_extension": ".py",
   "mimetype": "text/x-python",
   "name": "python",
   "nbconvert_exporter": "python",
   "pygments_lexer": "ipython3",
   "version": "3.11.9"
  }
 },
 "nbformat": 4,
 "nbformat_minor": 5
}
