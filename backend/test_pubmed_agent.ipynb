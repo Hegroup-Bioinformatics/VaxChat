{
 "cells": [
  {
   "cell_type": "code",
   "execution_count": 8,
   "id": "775defcd",
   "metadata": {},
   "outputs": [],
   "source": [
    "import sys\n",
    "import json\n",
    "sys.path.append(\"../\")"
   ]
  },
  {
   "cell_type": "code",
   "execution_count": 9,
   "id": "6f3520d4",
   "metadata": {},
   "outputs": [],
   "source": [
    "from agent.agent import Agent\n",
    "from tools.pubmed_search import PubmedSearch\n",
    "pubmed = PubmedSearch(\"asamatt@umich.edu\", True)\n",
    "my_agent = Agent(debug=True)"
   ]
  },
  {
   "cell_type": "code",
   "execution_count": 10,
   "id": "a3edc40b",
   "metadata": {},
   "outputs": [],
   "source": [
    "user_query = \"CCan you summarize the paper with pmid: 40800113?\""
   ]
  },
  {
   "cell_type": "code",
   "execution_count": 11,
   "id": "3e588af7",
   "metadata": {},
   "outputs": [
    {
     "name": "stdout",
     "output_type": "stream",
     "text": [
      "{\n",
      "    \"tool_to_use\": \"pubmed_search\",\n",
      "    \"tool_parameters\": {\n",
      "        \"type\": \"abstract\",\n",
      "        \"number\": 1,\n",
      "        \"query\": \"40800113\"\n",
      "    }\n",
      "}\n",
      "==============================\n",
      "40800113\n",
      "{'Count': '1', 'RetMax': '1', 'RetStart': '0', 'IdList': ['40800113'], 'TranslationSet': [], 'QueryTranslation': '40800113[UID]'}\n",
      "in fetch_pmids, id_list ['40800113']\n",
      "==============================\n",
      "==============================\n",
      "[{'pmid': '40800113', 'abstract': 'Brucella bacteria are adept at evading the human immune system, leading to a chronic infectious disease known as brucellosis, which poses significant global health challenges. This study addresses a notable gap in bibliometric analyses concerning the immune response to brucellosis.We conducted a comprehensive literature screening from the Web of Science Core Collection, covering publications from 1980 to 2024. Relevant publications were analyzed using R software, VOSviewer, and CiteSpace for bibliometric analysis.A total of 733 publications were included in this study, revealing an average annual growth rate of 5.91% in publications. The United States led in publication volume and citations, followed by China and France. Prominent research institutions included INSERM (France) and CONICET (Argentina). Infection and Immunity was identified as a leading journal in the field, publishing 97 papers with 5,184 citations. Keyword co-occurrence analysis delineated three main research clusters: Brucella vaccine development and immune protection, Brucella molecular mechanisms and intracellular survival strategies, and host innate immunity and Brucella interaction mechanisms. Burst analysis highlighted increasing attention on keywords such as \"protection,\" \"type IV secretion system,\" \"pathogenesis,\" and \"prediction\" since 2018.This bibliometric analysis sheds light on the global research landscape regarding the immune response in human brucellosis, pinpointing trends and gaps, with a focus on immune escape mechanisms and the future development of safe, effective vaccines.Copyright © 2025 Wang, Lu, Wang, Song, Tong, Yang and Li.'}]\n",
      "==============================\n",
      "==============================\n",
      "In search, kept_pmids.content: {\n",
      "    \"pmids\": [\"40800113\"]\n",
      "}\n",
      "==============================\n",
      "[{'pmid': '40800113', 'abstract': 'Brucella bacteria are adept at evading the human immune system, leading to a chronic infectious disease known as brucellosis, which poses significant global health challenges. This study addresses a notable gap in bibliometric analyses concerning the immune response to brucellosis.We conducted a comprehensive literature screening from the Web of Science Core Collection, covering publications from 1980 to 2024. Relevant publications were analyzed using R software, VOSviewer, and CiteSpace for bibliometric analysis.A total of 733 publications were included in this study, revealing an average annual growth rate of 5.91% in publications. The United States led in publication volume and citations, followed by China and France. Prominent research institutions included INSERM (France) and CONICET (Argentina). Infection and Immunity was identified as a leading journal in the field, publishing 97 papers with 5,184 citations. Keyword co-occurrence analysis delineated three main research clusters: Brucella vaccine development and immune protection, Brucella molecular mechanisms and intracellular survival strategies, and host innate immunity and Brucella interaction mechanisms. Burst analysis highlighted increasing attention on keywords such as \"protection,\" \"type IV secretion system,\" \"pathogenesis,\" and \"prediction\" since 2018.This bibliometric analysis sheds light on the global research landscape regarding the immune response in human brucellosis, pinpointing trends and gaps, with a focus on immune escape mechanisms and the future development of safe, effective vaccines.Copyright © 2025 Wang, Lu, Wang, Song, Tong, Yang and Li.'}]\n"
     ]
    }
   ],
   "source": [
    "tool = my_agent.decide(user_query)\n",
    "print(tool)\n",
    "if isinstance(tool, str):\n",
    "\ttool_data = json.loads(tool)\n",
    "else:\n",
    "  raise ValueError\n",
    "if tool_data[\"tool_to_use\"] == \"pubmed_search\":\n",
    "  retrieved_data = pubmed.execute(user_query=tool_data[\"tool_parameters\"][\"query\"], number_to_retrieve=tool_data[\"tool_parameters\"][\"number\"], type=tool_data[\"tool_parameters\"][\"type\"])\n",
    "  print(retrieved_data)"
   ]
  },
  {
   "cell_type": "code",
   "execution_count": 12,
   "id": "b2140346",
   "metadata": {},
   "outputs": [
    {
     "name": "stdout",
     "output_type": "stream",
     "text": [
      "The paper with PMID 40800113 provides a comprehensive bibliometric analysis of the immune response to brucellosis, a chronic infectious disease caused by Brucella bacteria. The study screened 733 publications from the Web of Science Core Collection, covering the period from 1980 to 2024. Key findings include an average annual publication growth rate of 5.91%, with the United States, China, and France being the leading contributors. Prominent research institutions included INSERM (France) and CONICET (Argentina), while the journal \"Infection and Immunity\" stood out with 97 papers and 5,184 citations. \n",
      "\n",
      "The analysis identified three main research clusters: brucella vaccine development and immune protection, brucella molecular mechanisms and intracellular survival strategies, and host innate immunity and brucella interaction mechanisms. Burst analysis revealed a growing focus on keywords like \"protection,\" \"type IV secretion system,\" \"pathogenesis,\" and \"prediction\" since 2018. \n",
      "\n",
      "The study sheds light on the global research landscape related to the immune response in human brucellosis, highlighting trends and gaps, especially in immune escape mechanisms and the development of safe, effective vaccines.\n"
     ]
    }
   ],
   "source": [
    "final_answer = my_agent.final_answer(user_query, retrieved_data, tool_data[\"tool_to_use\"])\n",
    "print(final_answer)"
   ]
  }
 ],
 "metadata": {
  "kernelspec": {
   "display_name": "Python 3",
   "language": "python",
   "name": "python3"
  },
  "language_info": {
   "codemirror_mode": {
    "name": "ipython",
    "version": 3
   },
   "file_extension": ".py",
   "mimetype": "text/x-python",
   "name": "python",
   "nbconvert_exporter": "python",
   "pygments_lexer": "ipython3",
   "version": "3.11.9"
  }
 },
 "nbformat": 4,
 "nbformat_minor": 5
}
