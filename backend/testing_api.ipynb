{
 "cells": [
  {
   "cell_type": "code",
   "execution_count": 53,
   "id": "912cf93b",
   "metadata": {},
   "outputs": [],
   "source": [
    "from Bio import Entrez\n",
    "from xml.etree import ElementTree as ET\n",
    "import re\n",
    "import requests\n",
    "Entrez.email = \"asamatt@umich.edu\""
   ]
  },
  {
   "cell_type": "code",
   "execution_count": 66,
   "id": "2a7fa7ef",
   "metadata": {},
   "outputs": [
    {
     "name": "stdout",
     "output_type": "stream",
     "text": [
      "{'Count': '2294', 'RetMax': '10', 'RetStart': '0', 'IdList': ['40800113', '40791355', '40788720', '40739071', '40733172', '40715363', '40711265', '40665323', '40645225', '40640584'], 'TranslationSet': [{'From': 'Brucella vaccine', 'To': '\"brucella vaccine\"[Supplementary Concept] OR \"brucella vaccine\"[All Fields] OR \"brucella vaccine\"[MeSH Terms] OR (\"brucella\"[All Fields] AND \"vaccine\"[All Fields])'}], 'QueryTranslation': '\"brucella vaccine\"[Supplementary Concept] OR \"brucella vaccine\"[All Fields] OR \"brucella vaccine\"[MeSH Terms] OR (\"brucella\"[All Fields] AND \"vaccine\"[All Fields])'}\n"
     ]
    }
   ],
   "source": [
    "handle = Entrez.esearch(db=\"pubmed\", retmax=10, term=\"Brucella vaccine\")\n",
    "record = Entrez.read(handle)\n",
    "print(record)"
   ]
  },
  {
   "cell_type": "code",
   "execution_count": null,
   "id": "5a5c9383",
   "metadata": {},
   "outputs": [],
   "source": [
    "def convert_pmid_to_pmcid(pmid):\n",
    "  url = f\"https://www.ncbi.nlm.nih.gov/pmc/utils/idconv/v1.0/?ids={pmid}&format=json\"\n",
    "  response = requests.get(url)\n",
    "  data = response.json()\n",
    "  if \"records\" in data and data[\"records\"]:\n",
    "    return data[\"records\"][0].get(\"pmcid\", None)\n",
    "  return None"
   ]
  },
  {
   "cell_type": "code",
   "execution_count": null,
   "id": "263f5080",
   "metadata": {},
   "outputs": [],
   "source": [
    "print(type(record))\n",
    "if isinstance(record, dict):\n",
    "\tprint(record.keys())\n",
    "\tprint(record['IdList'])\n",
    "\tabstracts = []\n",
    "\tfor id in record['IdList']:\n",
    "\t\tpmcid = convert_pmid_to_pmcid(id)\n",
    "\t\tprint(pmcid)\n",
    "\t\tif pmcid:\n",
    "\t\t\tpmcid_handle = Entrez.efetch(db=\"pmc\", id=pmcid, rettype=\"abstract\", retmode=\"text\")\n",
    "\t\t\tabstract = pmcid_handle.read()\n",
    "\t\t\tprint(abstract)\n",
    "\t\t\tabstracts.append(abstract)\n",
    "   "
   ]
  },
  {
   "cell_type": "code",
   "execution_count": 59,
   "id": "24d78991",
   "metadata": {},
   "outputs": [],
   "source": [
    "def get_element_text(elem):\n",
    "    \"\"\"Recursively extract all text from an ElementTree element.\"\"\"\n",
    "    text_parts = []\n",
    "    if elem.text:\n",
    "        text_parts.append(elem.text)\n",
    "    for child in elem:\n",
    "        text_parts.append(get_element_text(child))\n",
    "        if child.tail:\n",
    "            text_parts.append(child.tail)\n",
    "    return \"\".join(text_parts)"
   ]
  },
  {
   "cell_type": "code",
   "execution_count": 63,
   "id": "23237781",
   "metadata": {},
   "outputs": [
    {
     "name": "stdout",
     "output_type": "stream",
     "text": [
      "<class 'Bio.Entrez.Parser.DictionaryElement'>\n",
      "dict_keys(['Count', 'RetMax', 'RetStart', 'IdList', 'TranslationSet', 'QueryTranslation'])\n",
      "['40800113', '40791355', '40788720', '40739071', '40733172', '40715363', '40711265', '40665323', '40645225', '40640584']\n"
     ]
    }
   ],
   "source": [
    "print(type(record))\n",
    "if isinstance(record, dict):\n",
    "\tprint(record.keys())\n",
    "\tprint(record['IdList'])\n",
    "\tabstracts = []\n",
    "\tfor id in record['IdList']:\n",
    "\t\tpmid_handle = Entrez.efetch(db=\"pubmed\", id=id, rettype=\"abstract\", retmode=\"xml\")\n",
    "\t\txml_data = pmid_handle.read().decode(\"utf-8\")\n",
    "\t\troot = ET.fromstring(xml_data)\n",
    "\t\tfor abstract_text in root.findall(\".//Abstract\"):\n",
    "\t\t\tabstracts.append({\"pmid\": id, \"abstract\": get_element_text(abstract_text)})"
   ]
  },
  {
   "cell_type": "code",
   "execution_count": 64,
   "id": "ddb30f1a",
   "metadata": {},
   "outputs": [
    {
     "name": "stdout",
     "output_type": "stream",
     "text": [
      "{'pmid': '40800113', 'abstract': 'Brucella bacteria are adept at evading the human immune system, leading to a chronic infectious disease known as brucellosis, which poses significant global health challenges. This study addresses a notable gap in bibliometric analyses concerning the immune response to brucellosis.We conducted a comprehensive literature screening from the Web of Science Core Collection, covering publications from 1980 to 2024. Relevant publications were analyzed using R software, VOSviewer, and CiteSpace for bibliometric analysis.A total of 733 publications were included in this study, revealing an average annual growth rate of 5.91% in publications. The United States led in publication volume and citations, followed by China and France. Prominent research institutions included INSERM (France) and CONICET (Argentina). Infection and Immunity was identified as a leading journal in the field, publishing 97 papers with 5,184 citations. Keyword co-occurrence analysis delineated three main research clusters: Brucella vaccine development and immune protection, Brucella molecular mechanisms and intracellular survival strategies, and host innate immunity and Brucella interaction mechanisms. Burst analysis highlighted increasing attention on keywords such as \"protection,\" \"type IV secretion system,\" \"pathogenesis,\" and \"prediction\" since 2018.This bibliometric analysis sheds light on the global research landscape regarding the immune response in human brucellosis, pinpointing trends and gaps, with a focus on immune escape mechanisms and the future development of safe, effective vaccines.Copyright © 2025 Wang, Lu, Wang, Song, Tong, Yang and Li.'}\n",
      "\n",
      "\n",
      "{'pmid': '40791355', 'abstract': \"Vaccine research faces challenges in integrating diverse biomedical datasets. While the Vaccine Investigation and Online Information Network (VIOLIN) provides comprehensive vaccine data, implemented in traditional relational models limit complex analysis. Similarly, the Vaccine Ontology (VO) offers standardized semantic frameworks but lacks comprehensive empirical data. This study addresses these limitations by developing the Vaccine Knowledge Graph (VaxKG) that integrates VIOLIN's dataset with VO's standardized terminology. Using Neo4j, we transformed 12 core VIOLIN tables into a graph structure enriched with VO concepts. The resulting knowledge graph comprises 28,123 VIOLIN data nodes and 101,282 VO resource nodes, connected by 412,865 relationships. Our comparative analysis of Brucella and Influenza vaccines demonstrates VaxKG's ability to enable complex semantic queries and reveal insights unavailable from either resource alone. We further demonstrate VaxKG's utility through VaxChat, a large language model application that leverages the VaxKG as Retrieval-Augmented Generation (RAG) for intuitive vaccine information access.\"}\n",
      "\n",
      "\n",
      "{'pmid': '40788720', 'abstract': 'Background: Brucellosis is a widespread zoonotic bacterial infection that affects over 500,000 people annually, with significant economic losses in the livestock industry, particularly in endemic regions such as the Middle East, Asia, and parts of Africa and Latin America. Despite standard antibiotic treatments, relapse rates remain as high as 10%-15%, highlighting the limitations of current therapeutic options. Objective: Phage therapy, which uses bacteriophages to selectively target and lyse Brucella spp. bacteria, offers a promising approach for managing brucellosis. Methods: This paper explores the current understanding of brucellosis, highlighting the impact on animal and human health, and reviews the mechanisms and efficacy of bacteriophages against Brucella spp.Results:Key factors, such as phage specificity, immune modulation, and recent advancements in phage encapsulation, are discussed as strategies to enhance treatment efficacy. Conclusion: This review aims to explore emerging alternative therapies beyond conventional antibiotics, focusing on approaches such as immunotherapy, bacteriophage therapy, and novel vaccine strategies to improve clinical outcomes and reduce disease burden.'}\n",
      "\n",
      "\n",
      "{'pmid': '40739071', 'abstract': 'Brucellosis is a zoonotic infection caused by Brucella species, primarily affecting livestock, but with a wider host range that includes marine animals, amphibians, and possibly birds. This article aimed to conduct a meta-analysis of studies on avian brucellosis from 1970 to 2024, to define the role of wild and avian birds in the transmission and ecology of Brucella species. The analysis of 16,135 wild and domestic bird samples did not detect Brucella species (prevalence: 0%; 95% CI: 0.00% to 16.00%), although the wide confidence interval (CI) and moderate heterogeneity suggest uncertainty in the true prevalence. Furthermore, domestic birds exhibited a significantly higher prevalence of 1.31% (CI: 0.51%-2.35%), with very high heterogeneity. Moreover, females exhibited a prevalence of 0.1% (CI: 0.00%-0.52%), with no significant heterogeneity, indicating consistency among studies. Males presented a slightly lower prevalence (0.07%, CI: 0.00%-0.26%) and similarly displayed no heterogeneity. The results indicated that, even though birds are seropositive for brucellosis, their contribution to the natural transmission of the disease is minimal, particularly among domestic species. We note a variation in prevalence depending on the type of bird and the geographic region, with higher prevalence among domestic birds. Significant heterogeneity in infection rates was observed, reflecting complex epidemiological features. Results showed that birds may act as vectors for Brucella species, but further studies are needed to establish their role in transmitting the disease.© 2025. The Author(s), under exclusive licence to Springer Science+Business Media, LLC, part of Springer Nature.'}\n",
      "\n",
      "\n",
      "{'pmid': '40733172', 'abstract': \"Brucellosis continues to be a significant global zoonotic infection, with diagnosis largely relying on the detection of antibodies against the Brucella O-polysaccharide (O-PS) A and M antigens. In this study, computational methods, including homology modeling, molecular docking, and molecular dynamics simulations, were applied to investigate the interaction of the four murine monoclonal antibodies (mAbs) YsT9.1, YsT9.2, Bm10, and Bm28 with hexasaccharide fragments of the A and M epitopes. Through stringent stability criteria, based on interaction energies and mobility of the antigens, high-affinity binding of A antigen with YsT9.1 antibody and M antigen with Bm10 antibody was predicted. In both the complexes hydrophobic interactions dominate the antigen-antibody binding. These findings align well with experimental epitope mapping, indicating YsT9.1's preference for internal sequences of the A epitope and Bm10's preference for internal elements of the M epitope. Interestingly, no stable complexes were identified for YsT9.2 or Bm28 interacting with A or M antigen. This study provides valuable insights into the mechanism of molecular recognition of Brucella O-antigens that can be applied for the development of improved diagnostics, synthetic glycomimetics, and improved vaccine strategies.\"}\n",
      "\n",
      "\n",
      "{'pmid': '40715363', 'abstract': \"Brucellosis, primarily caused by B. melitensis, is a widespread zoonotic disease with significant economic and public health burdens on a global scale. Given the limitations of existing vaccines and the potential advantages associated with subunit vaccines, prioritizing the development of efficacious Brucellosis vaccines is crucial for effective disease control. This study examined the immunogenicity and protective efficacy of the Lpp-OmpA-BtaE fusion protein, a construct combining the lipoprotein outer membrane protein A (Lpp-OmpA) with Brucella trimeric autotransporter E (BtaE), co-administered with Freund's adjuvant (FA), in protecting against B.melitensis infection in a murine model.Vaccination with Lpp-OmpA-BtaE\\u2009+\\u2009FA conferred superior protection compared to the Lpp-OmpA\\u2009+\\u2009BtaE construct alone. Notably, Lpp-OmpA-BtaE\\u2009+\\u2009FA immunization elicited robust B-cell responses characterized by the generation of specific antibodies with a Th1-biased profile, as evidenced by elevated IgG2a/IgG1 ratios. Moreover, Lpp-OmpA-BtaE\\u2009+\\u2009FAinjection significantly increased interferon-γ (IFN-γ)/interleukin-4 (IL-4)levels and CD8+/CD4+ T-cell ratio, further supporting the induction of cell-mediated immune responses. Furthermore, it effectively reduced bacterial burdens in the spleens of infected mice. These findings suggest that the Lpp-OmpA platform fused with BtaE represents a promising candidate for the development of an efficacious Brucellosis vaccine, potentially leading to a reduction in morbidity and mortality associated with the disease.© 2025. The Author(s).\"}\n",
      "\n",
      "\n",
      "{'pmid': '40711265', 'abstract': \"Brucellosis, caused by Brucella species, remains a significant zoonotic disease affecting both human and animal health worldwide. Among the outer membrane proteins (Omps) of Brucella, Omp16 has emerged as a key immunogenic target with potential applications in vaccine development and diagnostics. Omp16, a lipidated peptidoglycan-associated lipoprotein, stimulates a strong proinflammatory response and is essential for maintaining the bacterial outer membrane integrity and facilitating host cell invasion. This review examines the immunogenic properties of Omp16, its role in Brucella pathogenesis, and its potential as a candidate for vaccine development. We discuss how Omp16-based vaccines, including recombinant proteins, outer membrane vesicles, and viral vector vaccines, have shown promise in providing protection against Brucella infections in animal models. Additionally, Omp16's utility in diagnostic applications, particularly in enzyme-linked immunosorbent assays (ELISA), offers a reliable method for detecting brucellosis in both humans and animals. Overall, Omp16 represents a crucial antigen with significant potential for advancing both the diagnosis and prevention of brucellosis, offering insights into the next generation of brucellosis vaccines and diagnostic tools.\"}\n",
      "\n",
      "\n",
      "{'pmid': '40665323', 'abstract': 'Brucellosis in livestock is endemic in Mongolia, and efficient monitoring is required for clarifying its prevalence. Milk can be obtained noninvasively and is useful for monitoring brucellosis in livestock. However, the usefulness of milk in monitoring brucellosis should be clarified.Serum and milk samples were obtained from 326 cows from six farms near Ulaanbaatar City between 2020 and 2022. Serum and milk were assessed using the Rose Bengal Test (RBT) and Milk Ring Test (MRT), respectively. All milk samples were further subjected to bacterial isolation and DNA extraction. DNA samples were analyzed with quantitative PCR (qPCR) targeting Brucella genus-specific IS711 insertion sequence to detect and estimate Brucella spp. levels in milk. qPCR-positive samples were further subjected to single nucleotide polymorphism (SNP) assay to discriminate B. abortus field strains from the S19 vaccine strain.Of the 326 milk samples, 108 (33.1%) were revealed to be positive for Brucella spp. by qPCR, whereas only 5 samples (1.5%) were deemed positive via the bacterial isolation. No S19 vaccine strain was identified in the IS711 qPCR-positive milk samples by the SNP assay. Although qPCR detected Brucella spp. from milk, which was obtained from cows in three lactation stages, the detection ratio was significantly higher in the early lactation stage than in the middle lactation stage. Additionally, the five milk samples from which Brucella spp, were isolated exhibited the top 5 estimated colony forming units among the IS711 qPCR-positive samples, indicating that detection sensitivity of the IS711 qPCR is extremely higher than that of bacterial culture. There was a tendency that milk samples from RBT- and MRT-positive cows are more likely to be positive by IS711 qPCR.The results revealed that analysis of milk with qPCR is easy and sensitive monitoring method for detecting Brucella infection in livestock.© 2025. The Author(s).'}\n",
      "\n",
      "\n",
      "{'pmid': '40645225', 'abstract': 'To evaluate the application of a VirB12 gene-deleted Brucella abortus A19 strain (A19-ΔVirB12) as a vaccine for differentiating infected from vaccinated animals in cattle and to develop an indirect ELISA (i-ELISA) for serological differentiation between vaccinated and naturally infected animals.A total of 115 Holstein cattle were immunized with A19-ΔVirB12 vaccine at 6 X 1010 CFUs, and sera were collected at 15, 30, 60, 90, 120, 150, and 180 days after vaccination. To determine the optimal threshold, serum from 180 infected cattle and 204 cattle immunized with A19-ΔVirB12 vaccine were confirmed positive for brucellosis tested by serum agglutination tests and a commercial ELISA kit. A differential identification i-ELISA was assembled and tested.The results showed that the Brucella antibody titers peaked at 15 days after immunization with a positive rate of 100%. The titers then continued to decrease over time until 180 days after immunization, when the positive rate was approximately 6.67%. No adverse reactions were observed in the herd after immunization. The differentiating i-ELISA kit had good differential efficiency to distinguish Brucella-positive antibodies induced by immunization with A19-ΔVirB12 vaccine from natural infection, with a sensitivity of 98.9%, specificity of 94.6%, positive predictive value of 94.2%, negative predictive value of 99%, and accuracy of 96.6%.Application of A19-ΔVirB12 vaccine and differential identification kits would support brucellosis control and eradication efforts in dairy herds.This study demonstrates that the application of A19‑ΔVirB12 vaccine and its differential identification kit in dairy farms can effectively distinguish infected animals from immunized, which support brucellosis control and eradication efforts.'}\n",
      "\n",
      "\n",
      "{'pmid': '40640584', 'abstract': 'Brucellosis is a widespread and persistent zoonotic disease caused by Gram-negative Brucella species, posing significant threats to human health, livestock, and economic stability. This review provides a comprehensive insight into current knowledge on Brucella pathogenicity, genomic structure and therapeutic challenges. We highlight the host-specific pathogenic mechanism of predominated species as B. melitensis, B. abortus, B. suis and B. canis focusing on their bipartite genome organization, virulence factors and strategies for intracellular survival and immune evasion. Diagnostic approaches including serological assays, such as SAT, ELISA, and molecular techniques like PCR molecular techniques are critically evaluated, alongside current antibiotic regimens and their limitations due to resistance and relapse. We further discuss promising developments in vaccine research-such as live attenuated, subunit, and DNA-based platforms-as well as adjunctive therapies involving nanotechnology, herbal compounds, and novel antibiotics. Emphasis is placed on the integration of genomic insights with therapeutic innovation. We conclude by identifying key research priorities, including the need for improved diagnostics, resistance profiling, and next-generation vaccines. This review underscores the importance of a multidisciplinary approach to mitigate the global burden of brucellosis and advance translational research in prevention and treatment.© 2025. The Author(s), under exclusive licence to Springer Nature B.V.'}\n",
      "\n",
      "\n"
     ]
    }
   ],
   "source": [
    "for abstract in abstracts:\n",
    "  print(abstract)\n",
    "  print(\"\\n\")"
   ]
  },
  {
   "cell_type": "code",
   "execution_count": null,
   "id": "80ea75d7",
   "metadata": {},
   "outputs": [],
   "source": [
    "print(abstracts[0])\n",
    "clean_abstract = re.search(r\"<abstract.*?>.*?</abstract>\", abstracts[0], re.DOTALL)"
   ]
  },
  {
   "cell_type": "code",
   "execution_count": null,
   "id": "ce1289b0",
   "metadata": {},
   "outputs": [],
   "source": [
    "print(clean_abstract.group(0))"
   ]
  }
 ],
 "metadata": {
  "kernelspec": {
   "display_name": "Python 3",
   "language": "python",
   "name": "python3"
  },
  "language_info": {
   "codemirror_mode": {
    "name": "ipython",
    "version": 3
   },
   "file_extension": ".py",
   "mimetype": "text/x-python",
   "name": "python",
   "nbconvert_exporter": "python",
   "pygments_lexer": "ipython3",
   "version": "3.11.9"
  }
 },
 "nbformat": 4,
 "nbformat_minor": 5
}
